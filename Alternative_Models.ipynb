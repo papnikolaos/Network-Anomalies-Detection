{
  "nbformat": 4,
  "nbformat_minor": 0,
  "metadata": {
    "colab": {
      "name": "Alternative_models.ipynb",
      "provenance": [],
      "collapsed_sections": []
    },
    "kernelspec": {
      "name": "python3",
      "display_name": "Python 3"
    },
    "language_info": {
      "name": "python"
    }
  },
  "cells": [
    {
      "cell_type": "code",
      "source": [
        "import torch\n",
        "import pandas as pd\n",
        "import seaborn as sns\n",
        "from sklearn.ensemble import RandomForestClassifier\n",
        "from sklearn.tree import DecisionTreeClassifier\n",
        "from sklearn import metrics\n",
        "import numpy as np\n",
        "from sklearn.naive_bayes import GaussianNB\n",
        "from sklearn.metrics import confusion_matrix\n",
        "import matplotlib.pyplot as plt"
      ],
      "metadata": {
        "id": "it7579xRI4RR"
      },
      "execution_count": 93,
      "outputs": []
    },
    {
      "cell_type": "code",
      "execution_count": 30,
      "metadata": {
        "id": "1f9rI0BKIOIo"
      },
      "outputs": [],
      "source": [
        "train_features = torch.load(r'/content/drive/MyDrive/train_features.pt').numpy()\n",
        "train_targets =torch.load(r'/content/drive/MyDrive/train_targets.pt').numpy()\n",
        "test_features = torch.load(r'/content/drive/MyDrive/test_features.pt').numpy()\n",
        "test_targets = torch.load(r'/content/drive/MyDrive/test_targets.pt').numpy()"
      ]
    },
    {
      "cell_type": "markdown",
      "source": [
        "## Random Forest"
      ],
      "metadata": {
        "id": "TtvJj8lZNZsy"
      }
    },
    {
      "cell_type": "code",
      "source": [
        "random_forest = RandomForestClassifier(n_estimators=10)\n",
        "random_forest = random_forest.fit(train_features, train_targets.ravel())"
      ],
      "metadata": {
        "id": "jwapDf3_NUFU"
      },
      "execution_count": 36,
      "outputs": []
    },
    {
      "cell_type": "code",
      "source": [
        "train_preds = random_forest.predict(train_features)\n",
        "print(\"Train accuracy: \",round(metrics.accuracy_score(train_preds,train_targets) * 100, 2),\"%\")\n",
        "acc_array = confusion_matrix(train_preds,train_targets)\n",
        "acc_df = pd.DataFrame(acc_array, index = ['predicted not anomaly','predicted anomaly'], columns = ['actual not anomaly','actual anomaly'])\n",
        "plt.figure(figsize = (4,4))\n",
        "sns.heatmap(acc_df, annot=True)"
      ],
      "metadata": {
        "colab": {
          "base_uri": "https://localhost:8080/",
          "height": 302
        },
        "id": "VY0-WZBMNikb",
        "outputId": "841bb354-32a7-424f-ff2d-99823ed2eb5a"
      },
      "execution_count": 37,
      "outputs": [
        {
          "output_type": "stream",
          "name": "stdout",
          "text": [
            "Train accuracy:  99.06 %\n"
          ]
        },
        {
          "output_type": "execute_result",
          "data": {
            "text/plain": [
              "<matplotlib.axes._subplots.AxesSubplot at 0x7fdb26f9ff10>"
            ]
          },
          "metadata": {},
          "execution_count": 37
        },
        {
          "output_type": "display_data",
          "data": {
            "text/plain": [
              "<Figure size 288x288 with 2 Axes>"
            ],
            "image/png": "[encoded data removed]"
          },
          "metadata": {
            "needs_background": "light"
          }
        }
      ]
    },
    {
      "cell_type": "code",
      "source": [
        "test_preds = random_forest.predict(test_features)\n",
        "print(\"Tests accuracy: \",round(metrics.accuracy_score(test_preds,test_targets) * 100, 2),\"%\")\n",
        "acc_array = confusion_matrix(test_preds,test_targets)\n",
        "acc_df = pd.DataFrame(acc_array, index = ['predicted not anomaly','predicted anomaly'], columns = ['actual not anomaly','actual anomaly'])\n",
        "plt.figure(figsize = (4,4))\n",
        "sns.heatmap(acc_df, annot=True)"
      ],
      "metadata": {
        "colab": {
          "base_uri": "https://localhost:8080/",
          "height": 302
        },
        "id": "wOWZusl1Np_Y",
        "outputId": "62979fa9-6894-4a22-cece-786d625b047c"
      },
      "execution_count": 38,
      "outputs": [
        {
          "output_type": "stream",
          "name": "stdout",
          "text": [
            "Tests accuracy:  91.38 %\n"
          ]
        },
        {
          "output_type": "execute_result",
          "data": {
            "text/plain": [
              "<matplotlib.axes._subplots.AxesSubplot at 0x7fdb268cec10>"
            ]
          },
          "metadata": {},
          "execution_count": 38
        },
        {
          "output_type": "display_data",
          "data": {
            "text/plain": [
              "<Figure size 288x288 with 2 Axes>"
            ],
            "image/png": "[encoded data removed]"
          },
          "metadata": {
            "needs_background": "light"
          }
        }
      ]
    },
    {
      "cell_type": "markdown",
      "source": [
        "## Decision Tree"
      ],
      "metadata": {
        "id": "SfpcS3gSOCWQ"
      }
    },
    {
      "cell_type": "code",
      "source": [
        "decision_tree = DecisionTreeClassifier()\n",
        "decision_tree = decision_tree.fit(train_features, train_targets.ravel())"
      ],
      "metadata": {
        "id": "h_Rh-6Q5OF_H"
      },
      "execution_count": 87,
      "outputs": []
    },
    {
      "cell_type": "code",
      "source": [
        "train_preds = decision_tree.predict(train_features)\n",
        "print(\"Train accuracy: \",round(metrics.accuracy_score(train_preds,train_targets) * 100, 2),\"%\")\n",
        "acc_array = confusion_matrix(train_preds,train_targets)\n",
        "acc_df = pd.DataFrame(acc_array, index = ['predicted not anomaly','predicted anomaly'], columns = ['actual not anomaly','actual anomaly'])\n",
        "plt.figure(figsize = (4,4))\n",
        "sns.heatmap(acc_df, annot=True)"
      ],
      "metadata": {
        "colab": {
          "base_uri": "https://localhost:8080/",
          "height": 302
        },
        "id": "3H92kgdBOYkf",
        "outputId": "5e4cdee8-9bba-4ffc-8e53-48f62179949e"
      },
      "execution_count": 88,
      "outputs": [
        {
          "output_type": "stream",
          "name": "stdout",
          "text": [
            "Train accuracy:  100.0 %\n"
          ]
        },
        {
          "output_type": "execute_result",
          "data": {
            "text/plain": [
              "<matplotlib.axes._subplots.AxesSubplot at 0x7fdb254c6e50>"
            ]
          },
          "metadata": {},
          "execution_count": 88
        },
        {
          "output_type": "display_data",
          "data": {
            "text/plain": [
              "<Figure size 288x288 with 2 Axes>"
            ],
            "image/png": "[encoded data removed]"
          },
          "metadata": {
            "needs_background": "light"
          }
        }
      ]
    },
    {
      "cell_type": "code",
      "source": [
        "test_preds = decision_tree.predict(test_features)\n",
        "print(\"Tests accuracy: \",round(metrics.accuracy_score(test_preds,test_targets) * 100, 2),\"%\")\n",
        "acc_array = confusion_matrix(test_preds,test_targets)\n",
        "acc_df = pd.DataFrame(acc_array, index = ['predicted not anomaly','predicted anomaly'], columns = ['actual not anomaly','actual anomaly'])\n",
        "plt.figure(figsize = (4,4))\n",
        "sns.heatmap(acc_df, annot=True)"
      ],
      "metadata": {
        "colab": {
          "base_uri": "https://localhost:8080/",
          "height": 302
        },
        "id": "aFZOFulDOkSv",
        "outputId": "7c2fe00d-496e-42d1-f15f-30304eeaa14a"
      },
      "execution_count": 89,
      "outputs": [
        {
          "output_type": "stream",
          "name": "stdout",
          "text": [
            "Tests accuracy:  75.86 %\n"
          ]
        },
        {
          "output_type": "execute_result",
          "data": {
            "text/plain": [
              "<matplotlib.axes._subplots.AxesSubplot at 0x7fdb25515310>"
            ]
          },
          "metadata": {},
          "execution_count": 89
        },
        {
          "output_type": "display_data",
          "data": {
            "text/plain": [
              "<Figure size 288x288 with 2 Axes>"
            ],
            "image/png": "[encoded data removed]"
          },
          "metadata": {
            "needs_background": "light"
          }
        }
      ]
    },
    {
      "cell_type": "markdown",
      "source": [
        "## Gaussian Naive Bayes"
      ],
      "metadata": {
        "id": "xpgYiKSsPdhV"
      }
    },
    {
      "cell_type": "code",
      "source": [
        "gnb = GaussianNB()\n",
        "gnb = gnb.fit(train_features, train_targets.ravel())"
      ],
      "metadata": {
        "id": "GUm9QnjhPdMF"
      },
      "execution_count": 48,
      "outputs": []
    },
    {
      "cell_type": "code",
      "source": [
        "train_preds = gnb.predict(train_features)\n",
        "print(\"Train accuracy: \",round(metrics.accuracy_score(train_preds,train_targets) * 100, 2),\"%\")\n",
        "acc_array = confusion_matrix(train_preds,train_targets)\n",
        "acc_df = pd.DataFrame(acc_array, index = ['predicted not anomaly','predicted anomaly'], columns = ['actual not anomaly','actual anomaly'])\n",
        "plt.figure(figsize = (4,4))\n",
        "sns.heatmap(acc_df, annot=True)"
      ],
      "metadata": {
        "colab": {
          "base_uri": "https://localhost:8080/",
          "height": 302
        },
        "id": "Oi4eNQkOPcRm",
        "outputId": "ac12dc68-9b5f-43a8-8974-d613ad218871"
      },
      "execution_count": 49,
      "outputs": [
        {
          "output_type": "stream",
          "name": "stdout",
          "text": [
            "Train accuracy:  98.75 %\n"
          ]
        },
        {
          "output_type": "execute_result",
          "data": {
            "text/plain": [
              "<matplotlib.axes._subplots.AxesSubplot at 0x7fdb263b97d0>"
            ]
          },
          "metadata": {},
          "execution_count": 49
        },
        {
          "output_type": "display_data",
          "data": {
            "text/plain": [
              "<Figure size 288x288 with 2 Axes>"
            ],
            "image/png": "[encoded data removed]"
          },
          "metadata": {
            "needs_background": "light"
          }
        }
      ]
    },
    {
      "cell_type": "code",
      "source": [
        "test_preds = gnb.predict(test_features)\n",
        "print(\"Tests accuracy: \",round(metrics.accuracy_score(test_preds,test_targets) * 100, 2),\"%\")\n",
        "acc_array = confusion_matrix(test_preds,test_targets)\n",
        "acc_df = pd.DataFrame(acc_array, index = ['predicted not anomaly','predicted anomaly'], columns = ['actual not anomaly','actual anomaly'])\n",
        "plt.figure(figsize = (4,4))\n",
        "sns.heatmap(acc_df, annot=True)"
      ],
      "metadata": {
        "colab": {
          "base_uri": "https://localhost:8080/",
          "height": 304
        },
        "id": "KIUxYQpaPuDq",
        "outputId": "6e3a266e-110a-48df-8eb9-8c19387d7b2a"
      },
      "execution_count": 50,
      "outputs": [
        {
          "output_type": "stream",
          "name": "stdout",
          "text": [
            "Tests accuracy:  75.86 %\n"
          ]
        },
        {
          "output_type": "execute_result",
          "data": {
            "text/plain": [
              "<matplotlib.axes._subplots.AxesSubplot at 0x7fdb263b9790>"
            ]
          },
          "metadata": {},
          "execution_count": 50
        },
        {
          "output_type": "display_data",
          "data": {
            "text/plain": [
              "<Figure size 288x288 with 2 Axes>"
            ],
            "image/png": "[encoded data removed]"
          },
          "metadata": {
            "needs_background": "light"
          }
        }
      ]
    }
  ]
}